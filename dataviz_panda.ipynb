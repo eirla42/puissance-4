{
  "nbformat": 4,
  "nbformat_minor": 0,
  "metadata": {
    "colab": {
      "name": "Untitled1.ipynb",
      "provenance": [],
      "collapsed_sections": []
    },
    "kernelspec": {
      "name": "python3",
      "display_name": "Python 3"
    },
    "language_info": {
      "name": "python"
    }
  },
  "cells": [
    {
      "cell_type": "code",
      "execution_count": 2,
      "metadata": {
        "colab": {
          "base_uri": "https://localhost:8080/",
          "height": 406
        },
        "id": "1pSUksF_cINt",
        "outputId": "0fc5043d-afce-4942-9428-34b9b790622f"
      },
      "outputs": [
        {
          "output_type": "execute_result",
          "data": {
            "text/html": [
              "\n",
              "  <div id=\"df-0a3f5e99-a94c-4bc7-b2be-60c30f7037dd\">\n",
              "    <div class=\"colab-df-container\">\n",
              "      <div>\n",
              "<style scoped>\n",
              "    .dataframe tbody tr th:only-of-type {\n",
              "        vertical-align: middle;\n",
              "    }\n",
              "\n",
              "    .dataframe tbody tr th {\n",
              "        vertical-align: top;\n",
              "    }\n",
              "\n",
              "    .dataframe thead th {\n",
              "        text-align: right;\n",
              "    }\n",
              "</style>\n",
              "<table border=\"1\" class=\"dataframe\">\n",
              "  <thead>\n",
              "    <tr style=\"text-align: right;\">\n",
              "      <th></th>\n",
              "      <th>player1_id</th>\n",
              "      <th>player1_name</th>\n",
              "      <th>player1_color</th>\n",
              "      <th>player1_nb_moves</th>\n",
              "      <th>player2_id</th>\n",
              "      <th>player2_name</th>\n",
              "      <th>player2_color</th>\n",
              "      <th>player2_nb_moves</th>\n",
              "      <th>winner_id</th>\n",
              "      <th>winner_name</th>\n",
              "      <th>winner_color</th>\n",
              "      <th>winner_nb_moves</th>\n",
              "      <th>start_time</th>\n",
              "      <th>end_time</th>\n",
              "      <th>game_time</th>\n",
              "    </tr>\n",
              "  </thead>\n",
              "  <tbody>\n",
              "    <tr>\n",
              "      <th>0</th>\n",
              "      <td>1</td>\n",
              "      <td>guillaume</td>\n",
              "      <td>yellow</td>\n",
              "      <td>8</td>\n",
              "      <td>2</td>\n",
              "      <td>mathieu</td>\n",
              "      <td>red</td>\n",
              "      <td>7</td>\n",
              "      <td>1</td>\n",
              "      <td>guillaume</td>\n",
              "      <td>yellow</td>\n",
              "      <td>8</td>\n",
              "      <td>08-02-2022 18:42:23</td>\n",
              "      <td>08-02-2022 18:43:21</td>\n",
              "      <td>00:00:58</td>\n",
              "    </tr>\n",
              "    <tr>\n",
              "      <th>1</th>\n",
              "      <td>1</td>\n",
              "      <td>guillaume</td>\n",
              "      <td>yellow</td>\n",
              "      <td>4</td>\n",
              "      <td>2</td>\n",
              "      <td>mathieu</td>\n",
              "      <td>red</td>\n",
              "      <td>4</td>\n",
              "      <td>2</td>\n",
              "      <td>mathieu</td>\n",
              "      <td>red</td>\n",
              "      <td>4</td>\n",
              "      <td>08-02-2022 19:01:42</td>\n",
              "      <td>08-02-2022 19:02:16</td>\n",
              "      <td>00:00:34</td>\n",
              "    </tr>\n",
              "    <tr>\n",
              "      <th>2</th>\n",
              "      <td>1</td>\n",
              "      <td>julien</td>\n",
              "      <td>yellow</td>\n",
              "      <td>4</td>\n",
              "      <td>2</td>\n",
              "      <td>mathieu</td>\n",
              "      <td>red</td>\n",
              "      <td>4</td>\n",
              "      <td>2</td>\n",
              "      <td>mathieu</td>\n",
              "      <td>red</td>\n",
              "      <td>4</td>\n",
              "      <td>08-02-2022 19:04:10</td>\n",
              "      <td>08-02-2022 19:04:40</td>\n",
              "      <td>00:00:29</td>\n",
              "    </tr>\n",
              "    <tr>\n",
              "      <th>3</th>\n",
              "      <td>1</td>\n",
              "      <td>julien</td>\n",
              "      <td>yellow</td>\n",
              "      <td>4</td>\n",
              "      <td>2</td>\n",
              "      <td>guillaume</td>\n",
              "      <td>red</td>\n",
              "      <td>4</td>\n",
              "      <td>2</td>\n",
              "      <td>guillaume</td>\n",
              "      <td>red</td>\n",
              "      <td>4</td>\n",
              "      <td>08-02-2022 19:29:32</td>\n",
              "      <td>08-02-2022 19:30:01</td>\n",
              "      <td>00:00:29</td>\n",
              "    </tr>\n",
              "    <tr>\n",
              "      <th>4</th>\n",
              "      <td>1</td>\n",
              "      <td>maxime</td>\n",
              "      <td>yellow</td>\n",
              "      <td>6</td>\n",
              "      <td>2</td>\n",
              "      <td>julien</td>\n",
              "      <td>red</td>\n",
              "      <td>6</td>\n",
              "      <td>2</td>\n",
              "      <td>julien</td>\n",
              "      <td>red</td>\n",
              "      <td>6</td>\n",
              "      <td>08-02-2022 19:30:21</td>\n",
              "      <td>08-02-2022 19:30:44</td>\n",
              "      <td>00:00:22</td>\n",
              "    </tr>\n",
              "    <tr>\n",
              "      <th>5</th>\n",
              "      <td>1</td>\n",
              "      <td>victore</td>\n",
              "      <td>yellow</td>\n",
              "      <td>6</td>\n",
              "      <td>2</td>\n",
              "      <td>mathieu</td>\n",
              "      <td>red</td>\n",
              "      <td>5</td>\n",
              "      <td>1</td>\n",
              "      <td>victore</td>\n",
              "      <td>yellow</td>\n",
              "      <td>6</td>\n",
              "      <td>08-02-2022 19:31:03</td>\n",
              "      <td>08-02-2022 19:31:25</td>\n",
              "      <td>00:00:22</td>\n",
              "    </tr>\n",
              "  </tbody>\n",
              "</table>\n",
              "</div>\n",
              "      <button class=\"colab-df-convert\" onclick=\"convertToInteractive('df-0a3f5e99-a94c-4bc7-b2be-60c30f7037dd')\"\n",
              "              title=\"Convert this dataframe to an interactive table.\"\n",
              "              style=\"display:none;\">\n",
              "        \n",
              "  <svg xmlns=\"http://www.w3.org/2000/svg\" height=\"24px\"viewBox=\"0 0 24 24\"\n",
              "       width=\"24px\">\n",
              "    <path d=\"M0 0h24v24H0V0z\" fill=\"none\"/>\n",
              "    <path d=\"M18.56 5.44l.94 2.06.94-2.06 2.06-.94-2.06-.94-.94-2.06-.94 2.06-2.06.94zm-11 1L8.5 8.5l.94-2.06 2.06-.94-2.06-.94L8.5 2.5l-.94 2.06-2.06.94zm10 10l.94 2.06.94-2.06 2.06-.94-2.06-.94-.94-2.06-.94 2.06-2.06.94z\"/><path d=\"M17.41 7.96l-1.37-1.37c-.4-.4-.92-.59-1.43-.59-.52 0-1.04.2-1.43.59L10.3 9.45l-7.72 7.72c-.78.78-.78 2.05 0 2.83L4 21.41c.39.39.9.59 1.41.59.51 0 1.02-.2 1.41-.59l7.78-7.78 2.81-2.81c.8-.78.8-2.07 0-2.86zM5.41 20L4 18.59l7.72-7.72 1.47 1.35L5.41 20z\"/>\n",
              "  </svg>\n",
              "      </button>\n",
              "      \n",
              "  <style>\n",
              "    .colab-df-container {\n",
              "      display:flex;\n",
              "      flex-wrap:wrap;\n",
              "      gap: 12px;\n",
              "    }\n",
              "\n",
              "    .colab-df-convert {\n",
              "      background-color: #E8F0FE;\n",
              "      border: none;\n",
              "      border-radius: 50%;\n",
              "      cursor: pointer;\n",
              "      display: none;\n",
              "      fill: #1967D2;\n",
              "      height: 32px;\n",
              "      padding: 0 0 0 0;\n",
              "      width: 32px;\n",
              "    }\n",
              "\n",
              "    .colab-df-convert:hover {\n",
              "      background-color: #E2EBFA;\n",
              "      box-shadow: 0px 1px 2px rgba(60, 64, 67, 0.3), 0px 1px 3px 1px rgba(60, 64, 67, 0.15);\n",
              "      fill: #174EA6;\n",
              "    }\n",
              "\n",
              "    [theme=dark] .colab-df-convert {\n",
              "      background-color: #3B4455;\n",
              "      fill: #D2E3FC;\n",
              "    }\n",
              "\n",
              "    [theme=dark] .colab-df-convert:hover {\n",
              "      background-color: #434B5C;\n",
              "      box-shadow: 0px 1px 3px 1px rgba(0, 0, 0, 0.15);\n",
              "      filter: drop-shadow(0px 1px 2px rgba(0, 0, 0, 0.3));\n",
              "      fill: #FFFFFF;\n",
              "    }\n",
              "  </style>\n",
              "\n",
              "      <script>\n",
              "        const buttonEl =\n",
              "          document.querySelector('#df-0a3f5e99-a94c-4bc7-b2be-60c30f7037dd button.colab-df-convert');\n",
              "        buttonEl.style.display =\n",
              "          google.colab.kernel.accessAllowed ? 'block' : 'none';\n",
              "\n",
              "        async function convertToInteractive(key) {\n",
              "          const element = document.querySelector('#df-0a3f5e99-a94c-4bc7-b2be-60c30f7037dd');\n",
              "          const dataTable =\n",
              "            await google.colab.kernel.invokeFunction('convertToInteractive',\n",
              "                                                     [key], {});\n",
              "          if (!dataTable) return;\n",
              "\n",
              "          const docLinkHtml = 'Like what you see? Visit the ' +\n",
              "            '<a target=\"_blank\" href=https://colab.research.google.com/notebooks/data_table.ipynb>data table notebook</a>'\n",
              "            + ' to learn more about interactive tables.';\n",
              "          element.innerHTML = '';\n",
              "          dataTable['output_type'] = 'display_data';\n",
              "          await google.colab.output.renderOutput(dataTable, element);\n",
              "          const docLink = document.createElement('div');\n",
              "          docLink.innerHTML = docLinkHtml;\n",
              "          element.appendChild(docLink);\n",
              "        }\n",
              "      </script>\n",
              "    </div>\n",
              "  </div>\n",
              "  "
            ],
            "text/plain": [
              "   player1_id player1_name  ...             end_time  game_time\n",
              "0           1    guillaume  ...  08-02-2022 18:43:21   00:00:58\n",
              "1           1    guillaume  ...  08-02-2022 19:02:16   00:00:34\n",
              "2           1       julien  ...  08-02-2022 19:04:40   00:00:29\n",
              "3           1       julien  ...  08-02-2022 19:30:01   00:00:29\n",
              "4           1       maxime  ...  08-02-2022 19:30:44   00:00:22\n",
              "5           1      victore  ...  08-02-2022 19:31:25   00:00:22\n",
              "\n",
              "[6 rows x 15 columns]"
            ]
          },
          "metadata": {},
          "execution_count": 2
        }
      ],
      "source": [
        "import pandas as pd \n",
        "data=pd.read_csv(\"previous_games.csv\")\n",
        "data"
      ]
    },
    {
      "cell_type": "code",
      "source": [
        "#Nombre victoires par joueur\n",
        "a=data['winner_name'].value_counts()\n",
        "a.sort_values(ascending=False).plot.bar(title=\"Nombre de victoires pas joueurs\",xlabel=\"Nom\",ylabel=\"Nombre de victoires\")"
      ],
      "metadata": {
        "colab": {
          "base_uri": "https://localhost:8080/",
          "height": 353
        },
        "id": "5bQApMR3nLqx",
        "outputId": "25c4b412-38db-488f-eb50-38b374864667"
      },
      "execution_count": 5,
      "outputs": [
        {
          "output_type": "execute_result",
          "data": {
            "text/plain": [
              "<matplotlib.axes._subplots.AxesSubplot at 0x7f4db1445310>"
            ]
          },
          "metadata": {},
          "execution_count": 5
        },
        {
          "output_type": "display_data",
          "data": {
            "image/png": "[encoded data removed]",
            "text/plain": [
              "<Figure size 432x288 with 1 Axes>"
            ]
          },
          "metadata": {
            "needs_background": "light"
          }
        }
      ]
    },
    {
      "cell_type": "code",
      "source": [
        "#ratio victoire defaite par joueur\n",
        "\n",
        "#La difficulté que j'ai rencontré est que chaque personne peut étre joueur 1 ou joueur 2.\n",
        "#Cela va donc conpléxifié le code pour faire de l'agrégation\n",
        "\n",
        "a=data['winner_name'].value_counts() #je recupére le nombre de victoire par joueur\n",
        "z =data['player1_name'] # je recupére le nombre de partie pour le joeur 1\n",
        "y =data['player2_name'] # pour le 2\n",
        "r=pd.concat([z, y]) # j'aggrége le résultat \n",
        "b=r.value_counts() #J'ai donc le nombre total de parties par joueurs\n",
        "(a/b).fillna(0).plot.bar(title=\"Ratio Victoire/defaites par joueurs\",xlabel=\"Nom\",ylabel=\"Ratio\") #je peux calculer le ratio "
      ],
      "metadata": {
        "colab": {
          "base_uri": "https://localhost:8080/",
          "height": 353
        },
        "id": "0x3jCnLqoZ4n",
        "outputId": "16dc6faf-4664-44b8-a7f9-a381bb56c7b4"
      },
      "execution_count": 6,
      "outputs": [
        {
          "output_type": "execute_result",
          "data": {
            "text/plain": [
              "<matplotlib.axes._subplots.AxesSubplot at 0x7f4db1425e10>"
            ]
          },
          "metadata": {},
          "execution_count": 6
        },
        {
          "output_type": "display_data",
          "data": {
            "image/png": "[encoded data removed]",
            "text/plain": [
              "<Figure size 432x288 with 1 Axes>"
            ]
          },
          "metadata": {
            "needs_background": "light"
          }
        }
      ]
    },
    {
      "cell_type": "code",
      "source": [
        "#nombre de coup moyen par joueur et par partie\n",
        "\n",
        "#Méme problématique que pour le ratio, mais cette fois ci je récupére un data frame à 2 collones\n",
        "#je commence par récupéré le nombre de coups par joueur un et deux\n",
        "z =data[['player1_name','player1_nb_moves']].rename(columns={'player1_name': 'nom','player1_nb_moves': 'nb'})#Je renomme les data frame pour pouvoir facilement l'agrégé avec le joeur deux\n",
        "y =data[['player2_name','player2_nb_moves']].rename(columns={'player2_name': 'nom','player2_nb_moves': 'nb'})\n",
        "r=pd.concat([z, y])# J'aggrége le resultat pour avoir le nombre de coup total (Joueur un et deux)\n",
        "r=r.groupby(['nom']).sum().sort_values(by='nom', ascending=True)#je regroupe tous cela par nom + j'affecte un ordre croissant\n",
        "#Ensuite le de parties\n",
        "a =data[['player1_name']].rename(columns={'player1_name': 'nom'})\n",
        "b =data[['player2_name']].rename(columns={'player2_name': 'nom'})\n",
        "c=pd.concat([a, b]).sort_values(by='nom', ascending=True)# méme méthode que pour récupérer le nombre de coups mais pour le nombre de partie total + j'affecte un ordre croissant\n",
        "c=c.value_counts().tolist()# je veux récupérer seulement une liste de nombre\n",
        "\n",
        "\n",
        "(r['nb']/c).plot.bar(title=\"Nombre de coups moyen par joueurs\",xlabel=\"Nom\",ylabel=\"Nombre coups moyen\") # je peux faire cela car r(nb coups par joueur) et c(nombre de parties) sont triés de la méme façon selon le nom du joeur\n"
      ],
      "metadata": {
        "colab": {
          "base_uri": "https://localhost:8080/",
          "height": 353
        },
        "id": "yxau8pYBsS6B",
        "outputId": "6eac3eca-1140-4a98-9d1a-c024aabfee93"
      },
      "execution_count": 7,
      "outputs": [
        {
          "output_type": "execute_result",
          "data": {
            "text/plain": [
              "<matplotlib.axes._subplots.AxesSubplot at 0x7f4db13aae90>"
            ]
          },
          "metadata": {},
          "execution_count": 7
        },
        {
          "output_type": "display_data",
          "data": {
            "image/png": "[encoded data removed]",
            "text/plain": [
              "<Figure size 432x288 with 1 Axes>"
            ]
          },
          "metadata": {
            "needs_background": "light"
          }
        }
      ]
    },
    {
      "cell_type": "code",
      "source": [
        "#Répartition du choix des couleurs par joueurs\n",
        "z =data[['player1_name','player1_color']].rename(columns={'player1_name': 'nom','player1_color': 'couleur'})\n",
        "y =data[['player2_name','player2_color']].rename(columns={'player2_name': 'nom','player2_color': 'couleur'})\n",
        "r=pd.concat([z.value_counts(), y.value_counts()])\n",
        "r.groupby(['nom','couleur']).sum()\n",
        "\n"
      ],
      "metadata": {
        "colab": {
          "base_uri": "https://localhost:8080/"
        },
        "id": "D0B6Z7vZ1QKa",
        "outputId": "b5a6e790-ec36-4d73-bb5a-d929a4a20c29"
      },
      "execution_count": null,
      "outputs": [
        {
          "output_type": "execute_result",
          "data": {
            "text/plain": [
              "nom        couleur\n",
              "guillaume  red        1\n",
              "           yellow     2\n",
              "julien     red        1\n",
              "           yellow     2\n",
              "mathieu    red        4\n",
              "maxime     yellow     1\n",
              "victore    yellow     1\n",
              "dtype: int64"
            ]
          },
          "metadata": {},
          "execution_count": 243
        }
      ]
    },
    {
      "cell_type": "code",
      "source": [
        ""
      ],
      "metadata": {
        "id": "R1FMkdgC2x8x"
      },
      "execution_count": null,
      "outputs": []
    },
    {
      "cell_type": "code",
      "source": [
        "#temps moyen par parti et par joueurs\n",
        "\n",
        "from datetime import datetime\n",
        "z =data[['player1_name','game_time']].rename(columns={'player1_name': 'nom','game_time': 'nb'})#Je renomme les data frame pour pouvoir facilement l'agrégé avec le joeur deux\n",
        "y =data[['player2_name','game_time']].rename(columns={'player2_name': 'nom','game_time': 'nb'})\n",
        "\n",
        "z['nb']= pd.to_datetime(z['nb'])# je convertit le type object de la collonne nb en date time\n",
        "y['nb']= pd.to_datetime(y['nb'])\n",
        "r=pd.concat([z, y])\n",
        "r=r.groupby('nom').mean() \n",
        "r['nb'] = r['nb'].astype(object)\n",
        "r['nb']= pd.to_datetime(r['nb']).dt.time #les étapes précédentes mon permisent déviter que la collone nb comporte en plus du temps la date tout en pouvent utiliser la fonction concat\n",
        "r"
      ],
      "metadata": {
        "colab": {
          "base_uri": "https://localhost:8080/",
          "height": 237
        },
        "id": "ub6BKc_T8B_o",
        "outputId": "53e2a015-441e-441d-b10a-6ddf698ef11d"
      },
      "execution_count": null,
      "outputs": [
        {
          "output_type": "execute_result",
          "data": {
            "text/html": [
              "\n",
              "  <div id=\"df-7b2c9013-326a-40b0-a977-6994339f04e9\">\n",
              "    <div class=\"colab-df-container\">\n",
              "      <div>\n",
              "<style scoped>\n",
              "    .dataframe tbody tr th:only-of-type {\n",
              "        vertical-align: middle;\n",
              "    }\n",
              "\n",
              "    .dataframe tbody tr th {\n",
              "        vertical-align: top;\n",
              "    }\n",
              "\n",
              "    .dataframe thead th {\n",
              "        text-align: right;\n",
              "    }\n",
              "</style>\n",
              "<table border=\"1\" class=\"dataframe\">\n",
              "  <thead>\n",
              "    <tr style=\"text-align: right;\">\n",
              "      <th></th>\n",
              "      <th>nb</th>\n",
              "    </tr>\n",
              "    <tr>\n",
              "      <th>nom</th>\n",
              "      <th></th>\n",
              "    </tr>\n",
              "  </thead>\n",
              "  <tbody>\n",
              "    <tr>\n",
              "      <th>guillaume</th>\n",
              "      <td>00:00:40.333333</td>\n",
              "    </tr>\n",
              "    <tr>\n",
              "      <th>julien</th>\n",
              "      <td>00:00:26.666666</td>\n",
              "    </tr>\n",
              "    <tr>\n",
              "      <th>mathieu</th>\n",
              "      <td>00:00:35.750000</td>\n",
              "    </tr>\n",
              "    <tr>\n",
              "      <th>maxime</th>\n",
              "      <td>00:00:22</td>\n",
              "    </tr>\n",
              "    <tr>\n",
              "      <th>victore</th>\n",
              "      <td>00:00:22</td>\n",
              "    </tr>\n",
              "  </tbody>\n",
              "</table>\n",
              "</div>\n",
              "      <button class=\"colab-df-convert\" onclick=\"convertToInteractive('df-7b2c9013-326a-40b0-a977-6994339f04e9')\"\n",
              "              title=\"Convert this dataframe to an interactive table.\"\n",
              "              style=\"display:none;\">\n",
              "        \n",
              "  <svg xmlns=\"http://www.w3.org/2000/svg\" height=\"24px\"viewBox=\"0 0 24 24\"\n",
              "       width=\"24px\">\n",
              "    <path d=\"M0 0h24v24H0V0z\" fill=\"none\"/>\n",
              "    <path d=\"M18.56 5.44l.94 2.06.94-2.06 2.06-.94-2.06-.94-.94-2.06-.94 2.06-2.06.94zm-11 1L8.5 8.5l.94-2.06 2.06-.94-2.06-.94L8.5 2.5l-.94 2.06-2.06.94zm10 10l.94 2.06.94-2.06 2.06-.94-2.06-.94-.94-2.06-.94 2.06-2.06.94z\"/><path d=\"M17.41 7.96l-1.37-1.37c-.4-.4-.92-.59-1.43-.59-.52 0-1.04.2-1.43.59L10.3 9.45l-7.72 7.72c-.78.78-.78 2.05 0 2.83L4 21.41c.39.39.9.59 1.41.59.51 0 1.02-.2 1.41-.59l7.78-7.78 2.81-2.81c.8-.78.8-2.07 0-2.86zM5.41 20L4 18.59l7.72-7.72 1.47 1.35L5.41 20z\"/>\n",
              "  </svg>\n",
              "      </button>\n",
              "      \n",
              "  <style>\n",
              "    .colab-df-container {\n",
              "      display:flex;\n",
              "      flex-wrap:wrap;\n",
              "      gap: 12px;\n",
              "    }\n",
              "\n",
              "    .colab-df-convert {\n",
              "      background-color: #E8F0FE;\n",
              "      border: none;\n",
              "      border-radius: 50%;\n",
              "      cursor: pointer;\n",
              "      display: none;\n",
              "      fill: #1967D2;\n",
              "      height: 32px;\n",
              "      padding: 0 0 0 0;\n",
              "      width: 32px;\n",
              "    }\n",
              "\n",
              "    .colab-df-convert:hover {\n",
              "      background-color: #E2EBFA;\n",
              "      box-shadow: 0px 1px 2px rgba(60, 64, 67, 0.3), 0px 1px 3px 1px rgba(60, 64, 67, 0.15);\n",
              "      fill: #174EA6;\n",
              "    }\n",
              "\n",
              "    [theme=dark] .colab-df-convert {\n",
              "      background-color: #3B4455;\n",
              "      fill: #D2E3FC;\n",
              "    }\n",
              "\n",
              "    [theme=dark] .colab-df-convert:hover {\n",
              "      background-color: #434B5C;\n",
              "      box-shadow: 0px 1px 3px 1px rgba(0, 0, 0, 0.15);\n",
              "      filter: drop-shadow(0px 1px 2px rgba(0, 0, 0, 0.3));\n",
              "      fill: #FFFFFF;\n",
              "    }\n",
              "  </style>\n",
              "\n",
              "      <script>\n",
              "        const buttonEl =\n",
              "          document.querySelector('#df-7b2c9013-326a-40b0-a977-6994339f04e9 button.colab-df-convert');\n",
              "        buttonEl.style.display =\n",
              "          google.colab.kernel.accessAllowed ? 'block' : 'none';\n",
              "\n",
              "        async function convertToInteractive(key) {\n",
              "          const element = document.querySelector('#df-7b2c9013-326a-40b0-a977-6994339f04e9');\n",
              "          const dataTable =\n",
              "            await google.colab.kernel.invokeFunction('convertToInteractive',\n",
              "                                                     [key], {});\n",
              "          if (!dataTable) return;\n",
              "\n",
              "          const docLinkHtml = 'Like what you see? Visit the ' +\n",
              "            '<a target=\"_blank\" href=https://colab.research.google.com/notebooks/data_table.ipynb>data table notebook</a>'\n",
              "            + ' to learn more about interactive tables.';\n",
              "          element.innerHTML = '';\n",
              "          dataTable['output_type'] = 'display_data';\n",
              "          await google.colab.output.renderOutput(dataTable, element);\n",
              "          const docLink = document.createElement('div');\n",
              "          docLink.innerHTML = docLinkHtml;\n",
              "          element.appendChild(docLink);\n",
              "        }\n",
              "      </script>\n",
              "    </div>\n",
              "  </div>\n",
              "  "
            ],
            "text/plain": [
              "                        nb\n",
              "nom                       \n",
              "guillaume  00:00:40.333333\n",
              "julien     00:00:26.666666\n",
              "mathieu    00:00:35.750000\n",
              "maxime            00:00:22\n",
              "victore           00:00:22"
            ]
          },
          "metadata": {},
          "execution_count": 81
        }
      ]
    },
    {
      "cell_type": "code",
      "source": [
        "#répartion de la victoire des joeurs dans le temps\n",
        "\n",
        "import matplotlib.pyplot as plt\n",
        "a=data[['winner_name','end_time']]\n",
        "a['end_time']=pd.to_datetime(a['end_time'])\n",
        "x_values =  a['end_time']\n",
        "y_values = a['winner_name']\n",
        "plt.title(\"Victoires des joueurs dans le temps\")\n",
        "plt.xlabel(\"Date/heure/minute\")\n",
        "plt.ylabel(\"Nom\")\n",
        "plt.scatter(x_values, y_values)\n"
      ],
      "metadata": {
        "colab": {
          "base_uri": "https://localhost:8080/",
          "height": 422
        },
        "id": "LEuiPyzPl7IX",
        "outputId": "863432c0-f6bf-44d2-9706-d4a02a381bff"
      },
      "execution_count": 9,
      "outputs": [
        {
          "output_type": "stream",
          "name": "stderr",
          "text": [
            "/usr/local/lib/python3.7/dist-packages/ipykernel_launcher.py:5: SettingWithCopyWarning: \n",
            "A value is trying to be set on a copy of a slice from a DataFrame.\n",
            "Try using .loc[row_indexer,col_indexer] = value instead\n",
            "\n",
            "See the caveats in the documentation: https://pandas.pydata.org/pandas-docs/stable/user_guide/indexing.html#returning-a-view-versus-a-copy\n",
            "  \"\"\"\n"
          ]
        },
        {
          "output_type": "execute_result",
          "data": {
            "text/plain": [
              "<matplotlib.collections.PathCollection at 0x7f4db13b1710>"
            ]
          },
          "metadata": {},
          "execution_count": 9
        },
        {
          "output_type": "display_data",
          "data": {
            "image/png": "[encoded data removed]",
            "text/plain": [
              "<Figure size 432x288 with 1 Axes>"
            ]
          },
          "metadata": {
            "needs_background": "light"
          }
        }
      ]
    }
  ]
}